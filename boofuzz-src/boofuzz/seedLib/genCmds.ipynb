{
 "metadata": {
  "language_info": {
   "codemirror_mode": {
    "name": "ipython",
    "version": 3
   },
   "file_extension": ".py",
   "mimetype": "text/x-python",
   "name": "python",
   "nbconvert_exporter": "python",
   "pygments_lexer": "ipython3",
   "version": "3.8.8"
  },
  "orig_nbformat": 2,
  "kernelspec": {
   "name": "python388jvsc74a57bd04990c3d45a7827100e5910b36f9aec19a954edb1e7c1f41d8c4fdb8a224bfa38",
   "display_name": "Python 3.8.8 64-bit ('bamboofuzz': conda)"
  },
  "metadata": {
   "interpreter": {
    "hash": "4990c3d45a7827100e5910b36f9aec19a954edb1e7c1f41d8c4fdb8a224bfa38"
   }
  }
 },
 "nbformat": 4,
 "nbformat_minor": 2,
 "cells": [
  {
   "cell_type": "code",
   "execution_count": 2,
   "metadata": {},
   "outputs": [],
   "source": [
    "import json\n",
    "import re"
   ]
  },
  {
   "cell_type": "code",
   "execution_count": 3,
   "metadata": {},
   "outputs": [],
   "source": [
    "cmds = [r'uname',\n",
    "       r'reboot',\n",
    "       r'echo$IFS\"FoundABug!!!\"',\n",
    "       r'ping$IFS127.0.0.1',\n",
    "       r'echo\\x20\"FoundABug!!!\"',\n",
    "       r'ping\\x20127.0.0.1']\n",
    "\n",
    "cmd_templates = []\n",
    "with open('/home/jackfromeast/bamboofuzz/tmp/command-excecution-unix.txt', 'r') as f:\n",
    "    for tp in f.readlines():\n",
    "        cmd_templates.append(tp.lstrip('\\n'))\n",
    "\n",
    "with open('/home/jackfromeast/bamboofuzz/tmp/command-excecution-unix.txt', 'r') as f:\n",
    "    for tp in f.readlines():\n",
    "        cmd_templates.append(tp.lstrip('\\n'))\n"
   ]
  },
  {
   "source": [
    "cmd_templates = list(set(cmd_templates))\n",
    "\n",
    "injectcmds = []\n",
    "for ct in cmd_templates:\n",
    "    for cmd in cmds:\n",
    "        ct2 = ct.replace('{cmd}', cmd)\n",
    "        injectcmds.append(ct2.lstrip('\\n'))\n",
    "\n",
    "with open('injectCmds.txt', 'w') as f:\n",
    "    for cmd in injectcmds:\n",
    "        f.write(f\"{cmd}\")\n",
    "\n"
   ],
   "cell_type": "code",
   "metadata": {},
   "execution_count": 12,
   "outputs": []
  },
  {
   "cell_type": "code",
   "execution_count": null,
   "metadata": {},
   "outputs": [],
   "source": []
  }
 ]
}